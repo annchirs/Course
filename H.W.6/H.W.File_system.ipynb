{
 "cells": [
  {
   "cell_type": "markdown",
   "metadata": {},
   "source": [
    "### Домашнее задание к лекции Работа с файловой системой и модули\n",
    "\n",
    "#### Задание 1\n",
    "\n",
    "Переведите содержимое файла purchase_log.txt в словарь purchases вида:\n",
    "{‘1840e0b9d4’: ‘Продукты’, …}"
   ]
  },
  {
   "cell_type": "code",
   "execution_count": 53,
   "metadata": {},
   "outputs": [
    {
     "name": "stdout",
     "output_type": "stream",
     "text": [
      "1840e0b9d4 Продукты\n",
      "4e4f90fcfb Электроника\n",
      "afea8d72fc Электроника\n",
      "373a6055fe Бытовая техника\n",
      "9b2ab046f3 Электроника\n",
      "<class 'dict'>\n"
     ]
    }
   ],
   "source": [
    "import json\n",
    "purchases = {}\n",
    "\n",
    "with open('purchase_log.txt', 'r', encoding = 'utf-8') as file:\n",
    "    next(file)\n",
    "    for line in file: \n",
    "        elem = json.loads(line)\n",
    "        purchases[elem['user_id']] = elem['category']\n",
    "\n",
    "# Вывод на экран 5 элементов\n",
    "i = 0\n",
    "for key, value in purchases.items():\n",
    "    print(key, value)\n",
    "    i += 1\n",
    "    if i == 5:\n",
    "        break\n",
    "print(type(purchases))"
   ]
  },
  {
   "cell_type": "markdown",
   "metadata": {},
   "source": [
    "#### Задание 2\n",
    "Для каждого user_id в файле visit_log.csv определите третий столбец с категорией покупки (если покупка была, сам файл visit_log.csv изменять не надо). Запишите в файл funnel.csv визиты из файла visit_log.csv, в которых были покупки с указанием категории.\n",
    "\n",
    "Учтите условия на данные:\n",
    "* содержимое purchase_log.txt помещается в оперативную память компьютера\n",
    "* содержимое visit_log.csv - нет; используйте только построчную обработку этого файла"
   ]
  },
  {
   "cell_type": "code",
   "execution_count": 55,
   "metadata": {},
   "outputs": [
    {
     "name": "stdout",
     "output_type": "stream",
     "text": [
      "user_id source category \n",
      "\n",
      "1840e0b9d4 other Продукты\n",
      "\n",
      "4e4f90fcfb context Электроника\n",
      "\n",
      "afea8d72fc other Электроника\n",
      "\n",
      "2824221f38 email Продукты\n",
      "\n",
      "373a6055fe other Бытовая техника\n",
      "\n"
     ]
    }
   ],
   "source": [
    "import json\n",
    "purchases = {}\n",
    "with open('purchase_log.txt', 'r', encoding = 'utf-8') as file:\n",
    "    next(file)\n",
    "    for line in file: \n",
    "        elem = json.loads(line)\n",
    "        purchases[elem['user_id']] = elem['category']\n",
    "        \n",
    "with open('visit_log.csv ','r', encoding = 'utf-8') as file1:\n",
    "    with open('funnel.csv', 'w',encoding = 'utf-8') as file2:\n",
    "        l = 'user_id source category \\n'\n",
    "        file2.write(l)\n",
    "        for line in file1:\n",
    "            visit = line.strip().split(',')\n",
    "            if visit[0] in purchases.keys():\n",
    "                l = visit[0] + ' ' + visit[1]+ ' ' + purchases[visit[0]] + '\\n'\n",
    "                file2.write(l)\n",
    "\n",
    "# Вывод на экран 5 элементов \n",
    "i = 0\n",
    "with open('funnel.csv', 'r',encoding = 'utf-8') as file2:\n",
    "    for line in file2:\n",
    "        print(line)\n",
    "        i += 1\n",
    "        if i > 5:\n",
    "            break"
   ]
  },
  {
   "cell_type": "code",
   "execution_count": null,
   "metadata": {},
   "outputs": [],
   "source": []
  }
 ],
 "metadata": {
  "kernelspec": {
   "display_name": "Python 3",
   "language": "python",
   "name": "python3"
  },
  "language_info": {
   "codemirror_mode": {
    "name": "ipython",
    "version": 3
   },
   "file_extension": ".py",
   "mimetype": "text/x-python",
   "name": "python",
   "nbconvert_exporter": "python",
   "pygments_lexer": "ipython3",
   "version": "3.8.5"
  }
 },
 "nbformat": 4,
 "nbformat_minor": 4
}
