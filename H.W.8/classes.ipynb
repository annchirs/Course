{
 "cells": [
  {
   "cell_type": "markdown",
   "metadata": {},
   "source": [
    "### Домашнее задание к лекции «Понятие класса»\n",
    "\n",
    "#### Задание 1\n",
    "Напишите функцию, которая возвращает название валюты (поле ‘Name’) с максимальным значением курса с помощью сервиса https://www.cbr-xml-daily.ru/daily_json.js"
   ]
  },
  {
   "cell_type": "code",
   "execution_count": 15,
   "metadata": {
    "scrolled": true
   },
   "outputs": [],
   "source": [
    "import requests"
   ]
  },
  {
   "cell_type": "code",
   "execution_count": 26,
   "metadata": {},
   "outputs": [
    {
     "data": {
      "text/plain": [
       "'СДР (специальные права заимствования)'"
      ]
     },
     "execution_count": 26,
     "metadata": {},
     "output_type": "execute_result"
    }
   ],
   "source": [
    "rates_url = 'https://www.cbr-xml-daily.ru/daily_json.js'\n",
    "def max_rate(url):\n",
    "        rates = requests.get(url).json()\n",
    "        max_value = max(rates['Valute'].values(), key = lambda rate: rate['Value'])\n",
    "        return max_value.get('Name')\n",
    "    \n",
    "max_rate(rates_url)"
   ]
  },
  {
   "cell_type": "markdown",
   "metadata": {},
   "source": [
    "#### Задание 2\n",
    "\n",
    "Добавьте в класс Rate параметр diff (со значениями True или False), который в случае значения True в методах курсов валют (eur, usd итд) будет возвращать не курс валюты, а изменение по сравнению в прошлым значением. Считайте, self.diff будет принимать значение True только при возврате значения курса. При отображении всей информации о валюте он не используется."
   ]
  },
  {
   "cell_type": "code",
   "execution_count": 57,
   "metadata": {},
   "outputs": [],
   "source": [
    "class Rate:\n",
    "    \n",
    "    def __init__(self, mode='full', diff = False):\n",
    "        self.mode = mode\n",
    "        self.diff = diff\n",
    "        \n",
    "#     def exchange_rates(self):\n",
    "#         r = requests.get('https://www.cbr-xml-daily.ru/daily_json.js')\n",
    "#         return r.json()['Valute']\n",
    "    \n",
    "#     def make_format(self, currency):\n",
    "#         response = self.exchange_rates()\n",
    "        \n",
    "#         if currency in response:\n",
    "#             if self.format == 'full':\n",
    "#                 return response[currency]\n",
    "            \n",
    "#             if self.format == 'value':\n",
    "#                 return response[currency]['Value']\n",
    "        \n",
    "#         return 'Error'\n",
    "\n",
    "    def get_rate(self, rate_name):\n",
    "        \n",
    "        current_rate = requests.get('https://www.cbr-xml-daily.ru/daily_json.js').json()['Valute'][rate_name]\n",
    "        \n",
    "        if self.mode == 'full':\n",
    "            return current_rate\n",
    "        \n",
    "        if self.diff:\n",
    "            return current_rate.get('Value') - current_rate.get('Previous')\n",
    "        \n",
    "        return current_rate.get('Value')\n",
    "   \n",
    "    def usd(self):\n",
    "        return self.get_rate('USD')\n",
    "    \n",
    "#     def eur(self):\n",
    "#         return self.get_rate('EUR')"
   ]
  },
  {
   "cell_type": "code",
   "execution_count": 58,
   "metadata": {},
   "outputs": [],
   "source": [
    "a = Rate()"
   ]
  },
  {
   "cell_type": "code",
   "execution_count": 60,
   "metadata": {},
   "outputs": [
    {
     "data": {
      "text/plain": [
       "{'ID': 'R01235',\n",
       " 'NumCode': '840',\n",
       " 'CharCode': 'USD',\n",
       " 'Nominal': 1,\n",
       " 'Name': 'Доллар США',\n",
       " 'Value': 72.0323,\n",
       " 'Previous': 71.8318}"
      ]
     },
     "execution_count": 60,
     "metadata": {},
     "output_type": "execute_result"
    }
   ],
   "source": [
    "a.usd()"
   ]
  },
  {
   "cell_type": "code",
   "execution_count": null,
   "metadata": {},
   "outputs": [],
   "source": []
  },
  {
   "cell_type": "markdown",
   "metadata": {},
   "source": [
    "#### Задание 3\n",
    "\n",
    "Напишите класс Designer, который учитывает количество международных премий. Подсказки в коде занятия в разделе “Домашнее задание задача 3”.\n",
    "\n",
    "\n",
    "Комментарий по классу Designer такой:\n",
    "\n",
    "Напишите класс Designer, который учитывает количество международных премий для дизайнеров (из презентации: “Повышение на 1 грейд за каждые 7 баллов. Получение международной премии – это +2 балла”). Считайте, что при выходе на работу сотрудник уже имеет две премии и их количество не меняется со стажем (конечно если хотите это можно вручную менять).\n",
    "\n",
    "\n",
    "Класс Designer пишется по аналогии с классом Developer из материалов занятия. Комментарий про его условия Вика написала выше: “Повышение на 1 грейд за каждые 7 баллов. Получение международной премии – это +2 балла”"
   ]
  },
  {
   "cell_type": "code",
   "execution_count": null,
   "metadata": {},
   "outputs": [],
   "source": []
  }
 ],
 "metadata": {
  "kernelspec": {
   "display_name": "Python 3",
   "language": "python",
   "name": "python3"
  },
  "language_info": {
   "codemirror_mode": {
    "name": "ipython",
    "version": 3
   },
   "file_extension": ".py",
   "mimetype": "text/x-python",
   "name": "python",
   "nbconvert_exporter": "python",
   "pygments_lexer": "ipython3",
   "version": "3.8.5"
  }
 },
 "nbformat": 4,
 "nbformat_minor": 4
}
