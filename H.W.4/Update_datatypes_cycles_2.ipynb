{
 "cells": [
  {
   "cell_type": "markdown",
   "metadata": {},
   "source": [
    "## Домашнее задание к лекции \"Введение в типы данных и циклы. Часть 2\"\n",
    "\n",
    "### Задание 1\n",
    "\n",
    "Дана переменная, в которой хранится словарь, содержащий гео-метки для каждого пользователя (пример структуры данных приведен ниже). Вам необходимо написать программу, которая выведет на экран множество уникальных гео-меток всех пользователей.\n",
    "\n",
    "Пример работы программы:\n",
    "\n",
    "    ids = {'user1': [213, 213, 213, 15, 213], \n",
    "           'user2': [54, 54, 119, 119, 119], \n",
    "           'user3': [213, 98, 98, 35]}\n",
    "\n",
    "Результат: {98, 35, 15, 213, 54, 119}"
   ]
  },
  {
   "cell_type": "code",
   "execution_count": 11,
   "metadata": {},
   "outputs": [
    {
     "name": "stdout",
     "output_type": "stream",
     "text": [
      "{98, 35, 15, 213, 54, 119}\n"
     ]
    }
   ],
   "source": [
    "ids = {'user1': [213, 213, 213, 15, 213], \n",
    "       'user2': [54, 54, 119, 119, 119], \n",
    "       'user3': [213, 98, 98, 35]}\n",
    "\n",
    "geotags = list(ids.values())\n",
    "geotag = sum(geotags, [])\n",
    "print(set(geotag))"
   ]
  },
  {
   "cell_type": "markdown",
   "metadata": {},
   "source": [
    "### Задание 2\n",
    "\n",
    "Дана переменная, в которой хранится список поисковых запросов пользователя (пример структуры данных приведен ниже). Вам необходимо написать программу, которая выведет на экран распределение количества слов в запросах в требуемом виде.\n",
    "\n",
    "Пример работы программы:\n",
    "\n",
    "    queries = [\n",
    "    'смотреть сериалы онлайн',\n",
    "    'новости спорта',\n",
    "    'афиша кино',\n",
    "    'курс доллара',\n",
    "    'сериалы этим летом',\n",
    "    'курс по питону',\n",
    "    'сериалы про спорт',\n",
    "]\n",
    "\n",
    "Результат:\n",
    "\n",
    "Поисковых запросов, содержащих 2 слов(а): 42.86%\n",
    "Поисковых запросов, содержащих 3 слов(а): 57.14%"
   ]
  },
  {
   "cell_type": "code",
   "execution_count": 21,
   "metadata": {},
   "outputs": [
    {
     "name": "stdout",
     "output_type": "stream",
     "text": [
      "Поисковых запросов, содержащих 3 слов(а): 57.14 %\n",
      "Поисковых запросов, содержащих 2 слов(а): 42.86 %\n"
     ]
    }
   ],
   "source": [
    "queries = [\n",
    "'смотреть сериалы онлайн',\n",
    "'новости спорта',\n",
    "'афиша кино',\n",
    "'курс доллара',\n",
    "'сериалы этим летом',\n",
    "'курс по питону',\n",
    "'сериалы про спорт', \n",
    "]\n",
    "\n",
    "total = len(queries)\n",
    "quantity_words = {}\n",
    "for element in range(len(queries)):\n",
    "    if (queries[element].count(' ')) not in quantity_words.keys():\n",
    "        quantity_words[queries[element].count(' ')] = 1\n",
    "    else:\n",
    "        quantity_words[queries[element].count(' ')] += 1 \n",
    "\n",
    "for elem in quantity_words.keys():\n",
    "    print(f'Поисковых запросов, содержащих {elem+1} слов(а): {round((quantity_words[elem]*100/total),2)} %')"
   ]
  },
  {
   "cell_type": "markdown",
   "metadata": {},
   "source": [
    "### Задание 3\n",
    "\n",
    "Дана переменная, в которой хранится информация о затратах и доходе рекламных кампаний по различным источникам. Необходимо дополнить исходную структуру показателем ROI, который рассчитаем по формуле: (revenue / cost - 1) * 100\n",
    "\n",
    "Пример работы программы:\n",
    "\n",
    "    results = {\n",
    "    'vk': {'revenue': 103, 'cost': 98},\n",
    "    'yandex': {'revenue': 179, 'cost': 153},\n",
    "    'facebook': {'revenue': 103, 'cost': 110},\n",
    "    'adwords': {'revenue': 35, 'cost': 34},\n",
    "    'twitter': {'revenue': 11, 'cost': 24},}\n",
    "    \n",
    "Результат:\n",
    "        \n",
    "    {'adwords': {'revenue': 35, 'cost': 34, 'ROI': 2.94},\n",
    "     'facebook': {'revenue': 103, 'cost': 110, 'ROI': -6.36},\n",
    "     'twitter': {'revenue': 11, 'cost': 24, 'ROI': -54.17},\n",
    "     'vk': {'revenue': 103, 'cost': 98, 'ROI': 5.1},\n",
    "     'yandex': {'revenue': 179, 'cost': 153, 'ROI': 16.99}}"
   ]
  },
  {
   "cell_type": "code",
   "execution_count": 13,
   "metadata": {},
   "outputs": [
    {
     "name": "stdout",
     "output_type": "stream",
     "text": [
      "vk {'revenue': 103, 'cost': 98, 'ROI': 5.1}\n",
      "yandex {'revenue': 179, 'cost': 153, 'ROI': 16.99}\n",
      "facebook {'revenue': 103, 'cost': 110, 'ROI': -6.36}\n",
      "adwords {'revenue': 35, 'cost': 34, 'ROI': 2.94}\n",
      "twitter {'revenue': 11, 'cost': 24, 'ROI': -54.17}\n"
     ]
    }
   ],
   "source": [
    "results = {\n",
    "'vk': {'revenue': 103, 'cost': 98},\n",
    "'yandex': {'revenue': 179, 'cost': 153},\n",
    "'facebook': {'revenue': 103, 'cost': 110},\n",
    "'adwords': {'revenue': 35, 'cost': 34},\n",
    "'twitter': {'revenue': 11, 'cost': 24},}\n",
    "\n",
    "for i, value in results.items():\n",
    "    value['ROI']=round(((value['revenue'] / value['cost'] - 1) * 100), 2)\n",
    "    print(i, value)"
   ]
  },
  {
   "cell_type": "markdown",
   "metadata": {},
   "source": [
    "### Задание 4\n",
    "\n",
    "Дана переменная, в которой хранится статистика рекламных каналов по объемам продаж (пример структуры данных приведен ниже). Напишите программу, которая возвращает название канала с максимальным объемом продаж.\n",
    "\n",
    "\n",
    "Пример работы программы:\n",
    "\n",
    "\n",
    "    stats = {'facebook': 55, 'yandex': 115, 'vk': 120, 'google': 99, 'email': 42, 'ok': 98}\n",
    "\n",
    "\n",
    "Результат: Максимальный объем продаж на рекламном канале: vk"
   ]
  },
  {
   "cell_type": "code",
   "execution_count": 14,
   "metadata": {},
   "outputs": [
    {
     "name": "stdout",
     "output_type": "stream",
     "text": [
      "Максимальный объем продаж на рекламном канале: vk\n"
     ]
    }
   ],
   "source": [
    "stats = {'facebook': 55, 'yandex': 115, 'vk': 120, 'google': 99, 'email': 42, 'ok': 98}\n",
    "\n",
    "for name, op in stats.items():\n",
    "    if op == max(stats.values()):\n",
    "                 print('Максимальный объем продаж на рекламном канале:', name)\n",
    "            \n",
    "# Другие способы решения задачи:\n",
    "# https://stackoverflow.com/questions/268272/getting-key-with-maximum-value-in-dictionary"
   ]
  },
  {
   "cell_type": "markdown",
   "metadata": {},
   "source": [
    "### Задание 5 (необязательно)\n",
    "\n",
    "Дан список произвольной длины. Необходимо написать код, который на основе исходного списка составит словарь такого уровня вложенности, какова длина исходного списка.\n",
    "\n",
    "\n",
    "Примеры работы программы:\n",
    "\n",
    "\n",
    "    my_list = ['2018-01-01', 'yandex', 'cpc', 100]\n",
    "    Результат: {'2018-01-01': {'yandex': {'cpc': 100}}}\n",
    "\n",
    "    my_list = ['a', 'b', 'c', 'd', 'e', 'f']\n",
    "    Результат: {'a': {'b': {'c': {'d': {'e': 'f'}}}}}"
   ]
  },
  {
   "cell_type": "code",
   "execution_count": 15,
   "metadata": {},
   "outputs": [
    {
     "name": "stdout",
     "output_type": "stream",
     "text": [
      "{'a': {'b': {'c': {'d': {'e': 'f'}}}}}\n"
     ]
    }
   ],
   "source": [
    "my_list = ['a', 'b', 'c', 'd', 'e', 'f']\n",
    "length = len(my_list)-1\n",
    "my_dictionary ={}\n",
    "my_dictionary = {my_list[length-1]:my_list[length]}\n",
    "for i in range(2, length+1):\n",
    "    my_dictionary = {my_list[length-i]:my_dictionary}   \n",
    "print(my_dictionary)"
   ]
  },
  {
   "cell_type": "markdown",
   "metadata": {},
   "source": [
    "### Задание 6 (необязательно)\n",
    "\n",
    "Дана книга рецептов с информацией о том, сколько ингредиентов нужно для приготовления блюда в расчете на одну порцию (пример данных представлен ниже).\n",
    "Напишите программу, которая будет запрашивать у пользователя количество порций для приготовления этих блюд и отображать информацию о суммарном количестве требуемых ингредиентов в указанном виде.\n",
    "Внимание! Одинаковые ингридиенты с разными размерностями нужно считать раздельно!\n",
    "Пример работы программы:\n",
    "\n",
    "    cook_book = {\n",
    "          'салат': [\n",
    "         {'ingridient_name': 'сыр', 'quantity': 50, 'measure': 'гр'},\n",
    "         {'ingridient_name': 'томаты', 'quantity': 2, 'measure': 'шт'},\n",
    "         {'ingridient_name': 'огурцы', 'quantity': 20, 'measure': 'гр'},\n",
    "         {'ingridient_name': 'маслины', 'quantity': 10, 'measure': 'гр'},\n",
    "         {'ingridient_name': 'оливковое масло', 'quantity': 20, 'measure': 'мл'},\n",
    "         {'ingridient_name': 'салат', 'quantity': 10, 'measure': 'гр'},\n",
    "         {'ingridient_name': 'перец', 'quantity': 20, 'measure': 'гр'}\n",
    "        ],\n",
    "      'пицца': [\n",
    "         {'ingridient_name': 'сыр', 'quantity': 20, 'measure': 'гр'},\n",
    "     {'ingridient_name': 'колбаса', 'quantity': 30, 'measure': 'гр'},\n",
    "     {'ingridient_name': 'бекон', 'quantity': 30, 'measure': 'гр'},\n",
    "     {'ingridient_name': 'оливки', 'quantity': 10, 'measure': 'гр'},\n",
    "     {'ingridient_name': 'томаты', 'quantity': 20, 'measure': 'гр'},\n",
    "     {'ingridient_name': 'тесто', 'quantity': 100, 'measure': 'гр'},   \n",
    "    ],\n",
    "      'лимонад': [\n",
    "     {'ingridient_name': 'лимон', 'quantity': 1, 'measure': 'шт'},\n",
    "     {'ingridient_name': 'вода', 'quantity': 200, 'measure': 'мл'},\n",
    "     {'ingridient_name': 'сахар', 'quantity': 10, 'measure': 'гр'},\n",
    "     {'ingridient_name': 'лайм', 'quantity': 20, 'measure': 'гр'},    \n",
    "    ]\n",
    "}\n",
    "\n",
    "Введите количество порций:  \n",
    "3\n",
    "\n",
    "Результат:\n",
    "\n",
    "Сыр: 210 гр  \n",
    "Томаты: 6 шт  \n",
    "Огурцы: 60 гр  \n",
    "Маслины: 30 гр  \n",
    "Оливковое масло: 60 мл  \n",
    "Салат: 30 гр  \n",
    "Перец: 60 гр  \n",
    "Колбаса: 90 гр  \n",
    "Бекон: 90 гр  \n",
    "Оливки: 30 гр  \n",
    "Томаты: 60 гр  \n",
    "Тесто: 300 гр  \n",
    "Лимон: 3 шт  \n",
    "Вода: 600 мл  \n",
    "Сахар: 30 гр  \n",
    "Лайм: 60 гр"
   ]
  },
  {
   "cell_type": "code",
   "execution_count": 23,
   "metadata": {
    "scrolled": true
   },
   "outputs": [
    {
     "name": "stdout",
     "output_type": "stream",
     "text": [
      "сыр: 350 гр\n",
      "томаты: 10 шт\n",
      "огурцы: 100 гр\n",
      "маслины: 50 гр\n",
      "оливковое масло: 100 мл\n",
      "салат: 50 гр\n",
      "перец: 100 гр\n",
      "колбаса: 150 гр\n",
      "бекон: 150 гр\n",
      "оливки: 50 гр\n",
      "томаты: 100 гр\n",
      "тесто: 500 гр\n",
      "лимон: 5 шт\n",
      "вода: 1000 мл\n",
      "сахар: 50 гр\n",
      "лайм: 100 гр\n"
     ]
    }
   ],
   "source": [
    "cook_book = {\n",
    "      'салат': [\n",
    "     {'ingridient_name': 'сыр', 'quantity': 50, 'measure': 'гр'},\n",
    "     {'ingridient_name': 'томаты', 'quantity': 2, 'measure': 'шт'},\n",
    "     {'ingridient_name': 'огурцы', 'quantity': 20, 'measure': 'гр'},\n",
    "     {'ingridient_name': 'маслины', 'quantity': 10, 'measure': 'гр'},\n",
    "     {'ingridient_name': 'оливковое масло', 'quantity': 20, 'measure': 'мл'},\n",
    "     {'ingridient_name': 'салат', 'quantity': 10, 'measure': 'гр'},\n",
    "     {'ingridient_name': 'перец', 'quantity': 20, 'measure': 'гр'}],\n",
    "      'пицца': [\n",
    "     {'ingridient_name': 'сыр', 'quantity': 20, 'measure': 'гр'},\n",
    "     {'ingridient_name': 'колбаса', 'quantity': 30, 'measure': 'гр'},\n",
    "     {'ingridient_name': 'бекон', 'quantity': 30, 'measure': 'гр'},\n",
    "     {'ingridient_name': 'оливки', 'quantity': 10, 'measure': 'гр'},\n",
    "     {'ingridient_name': 'томаты', 'quantity': 20, 'measure': 'гр'},\n",
    "     {'ingridient_name': 'тесто', 'quantity': 100, 'measure': 'гр'},],\n",
    "      'лимонад': [\n",
    "     {'ingridient_name': 'лимон', 'quantity': 1, 'measure': 'шт'},\n",
    "     {'ingridient_name': 'вода', 'quantity': 200, 'measure': 'мл'},\n",
    "     {'ingridient_name': 'сахар', 'quantity': 10, 'measure': 'гр'},\n",
    "     {'ingridient_name': 'лайм', 'quantity': 20, 'measure': 'гр'}],\n",
    "}\n",
    "## То, что получилось у меня\n",
    "# person = int(input('Введите количество порций: '))\n",
    "# print(' ')\n",
    "# menu = []\n",
    "\n",
    "# for value in cook_book.values():\n",
    "#     for i in range(0,len(value)):\n",
    "#         menu.append({'ingridient_name':value[i]['ingridient_name'],'quantity':value[i]['quantity'],'measure':value[i]['measure']}) \n",
    "\n",
    "# length = len(menu)\n",
    "# i = 0\n",
    "# while i != length:\n",
    "#     summa = menu[i]['quantity']\n",
    "#     j = i+1\n",
    "#     while j != length:\n",
    "#         if (menu[i]['ingridient_name'] == menu[j]['ingridient_name']) and (menu[i]['measure'] == menu[j]['measure']):\n",
    "#             summa +=  menu[j]['quantity']\n",
    "#             del(menu[j])\n",
    "#             length = length - 1\n",
    "#         else:\n",
    "#             j += 1\n",
    "#     print(menu[i]['ingridient_name'].title(),':',summa*person, menu[i]['measure'])     \n",
    "#     i += 1\n",
    "\n",
    "# Как лучше было сделать\n",
    "person = 5\n",
    "shop_dict = {}\n",
    "for dish in cook_book.values():\n",
    "    for ingr in dish:\n",
    "        key = (ingr['ingridient_name'], ingr['measure'])\n",
    "        if key not in shop_dict:\n",
    "            shop_dict[key] = ingr['quantity'] * person\n",
    "        else:\n",
    "            shop_dict[key] += ingr['quantity'] * person\n",
    "\n",
    "for name, q in shop_dict.items():\n",
    "    print(f'{name[0]}: {q} {name[1]}')"
   ]
  },
  {
   "cell_type": "code",
   "execution_count": null,
   "metadata": {},
   "outputs": [],
   "source": []
  }
 ],
 "metadata": {
  "kernelspec": {
   "display_name": "Python 3",
   "language": "python",
   "name": "python3"
  },
  "language_info": {
   "codemirror_mode": {
    "name": "ipython",
    "version": 3
   },
   "file_extension": ".py",
   "mimetype": "text/x-python",
   "name": "python",
   "nbconvert_exporter": "python",
   "pygments_lexer": "ipython3",
   "version": "3.8.5"
  }
 },
 "nbformat": 4,
 "nbformat_minor": 4
}
