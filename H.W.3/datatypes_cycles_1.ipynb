{
 "cells": [
  {
   "cell_type": "markdown",
   "metadata": {},
   "source": [
    "## Домашнее задание к лекции \"Введение в типы данных и циклы. Часть 1\"\n",
    "\n",
    "### Задание 1\n",
    "\n",
    "Дана переменная, в которой хранится слово из латинских букв. Напишите код, который выводит на экран:\n",
    "\n",
    "* среднюю букву, если число букв в слове нечетное;\n",
    "* две средних буквы, если число букв четное.\n",
    "\n",
    "Примеры работы программы:\n",
    "\n",
    "word = 'test'\n",
    "\n",
    "Результат:\n",
    "es\n",
    "\n",
    "word = 'testing'\n",
    "\n",
    "Результат:\n",
    "t"
   ]
  },
  {
   "cell_type": "code",
   "execution_count": 3,
   "metadata": {},
   "outputs": [
    {
     "name": "stdout",
     "output_type": "stream",
     "text": [
      "Результат: es\n"
     ]
    }
   ],
   "source": [
    "word = 'test'\n",
    "length = int(len(word))\n",
    "if length % 2 == 0:\n",
    "    print('Результат:', word[length//2-1 : length//2+1])\n",
    "else:\n",
    "    print('Результат:', word[(length//2)])"
   ]
  },
  {
   "cell_type": "markdown",
   "metadata": {},
   "source": [
    "### Задание 2\n",
    "\n",
    "Напишите программу, которая последовательно запрашивает у пользователя числа (по одному за раз) и после первого нуля выводит сумму всех ранее введенных чисел.\n",
    "\n",
    "Примеры работы программы:\n",
    "\n",
    "Введите число:  1\n",
    "\n",
    "Введите число:  4\n",
    "\n",
    "Введите число:  6\n",
    "\n",
    "Введите число:  0\n",
    "\n",
    "Результат:\n",
    "11\n",
    "\n",
    "Введите число:  0\n",
    "\n",
    "Результат:\n",
    "0"
   ]
  },
  {
   "cell_type": "code",
   "execution_count": 5,
   "metadata": {},
   "outputs": [
    {
     "name": "stdout",
     "output_type": "stream",
     "text": [
      "Введите число от 0 до 9: 1\n",
      "Введите число от 0 до 9: 4\n",
      "Введите число от 0 до 9: 6\n",
      "Введите число от 0 до 9: 0\n",
      "Результат:  11\n"
     ]
    }
   ],
   "source": [
    "summa = 0\n",
    "number = 1\n",
    "while number != 0:\n",
    "    number = int(input('Введите число от 0 до 9: '))\n",
    "    summa = summa + number\n",
    "    \n",
    "print('Результат: ', summa)"
   ]
  },
  {
   "cell_type": "markdown",
   "metadata": {},
   "source": [
    "### Задание 3\n",
    "\n",
    "Мы делаем MVP dating-сервиса, и у нас есть список парней и девушек.\n",
    "\n",
    "Выдвигаем гипотезу: лучшие рекомендации мы получим, если просто отсортируем имена по алфавиту и познакомим людей с одинаковыми индексами после сортировки! Но мы не будем никого знакомить, если кто-то может остаться без пары.\n",
    "\n",
    "Примеры работы программы:\n",
    "\n",
    "boys = ['Peter', 'Alex', 'John', 'Arthur', 'Richard']  \n",
    "girls = ['Kate', 'Liza', 'Kira', 'Emma', 'Trisha']\n",
    "\n",
    "Результат:\n",
    "\n",
    "Идеальные пары:  \n",
    "Alex и Emma  \n",
    "Arthur и Kate  \n",
    "John и Kira  \n",
    "Peter и Liza  \n",
    "Richard и Trisha\n",
    "\n",
    "boys = ['Peter', 'Alex', 'John', 'Arthur', 'Richard', 'Michael']  \n",
    "girls = ['Kate', 'Liza', 'Kira', 'Emma', 'Trisha']\n",
    "\n",
    "Результат:\n",
    "Внимание, кто-то может остаться без пары!"
   ]
  },
  {
   "cell_type": "code",
   "execution_count": 14,
   "metadata": {},
   "outputs": [
    {
     "name": "stdout",
     "output_type": "stream",
     "text": [
      "Идеальные пары:\n",
      "Alex и Emma\n",
      "Arthur и Kate\n",
      "John и Kira\n",
      "Peter и Liza\n",
      "Richard и Trisha\n"
     ]
    }
   ],
   "source": [
    "boys = ['Peter', 'Alex', 'John', 'Arthur', 'Richard']\n",
    "girls = ['Kate', 'Liza', 'Kira', 'Emma', 'Trisha']\n",
    "boys.sort()\n",
    "girls.sort()\n",
    "if len(boys) == len(girls):\n",
    "    print('Идеальные пары:')\n",
    "    for name in boys:\n",
    "        print(name,'и',girls[boys.index(name)])\n",
    "else:\n",
    "    print('Внимание, кто-то может остаться без пары!')"
   ]
  },
  {
   "cell_type": "markdown",
   "metadata": {},
   "source": [
    "### Задание 4\n",
    "\n",
    "У нас есть список, содержащий информацию о среднедневной температуре в Фаренгейтах за произвольный период по странам (структура данных в примере). Необходимо написать код, который рассчитает среднюю температуру за период в Цельсиях(!) для каждой страны.\n",
    "\n",
    "Пример работы программы:\n",
    "\n",
    "\n",
    "countries_temperature = [\n",
    "\n",
    "    ['Thailand', [75.2, 77, 78.8, 73.4, 68, 75.2, 77]],\n",
    "\n",
    "    ['Germany', [57.2, 55.4, 59, 59, 53.6]],\n",
    "\n",
    "    ['Russia', [35.6, 37.4, 39.2, 41, 42.8, 39.2, 35.6]],\n",
    "\n",
    "    ['Poland', [50, 50, 53.6, 57.2, 55.4, 55.4]]]\n",
    "\n",
    "Результат:\n",
    "\n",
    "Средняя температура в странах:\n",
    "\n",
    "Thailand  -  23.9 С\n",
    "\n",
    "Germany  -  13.8 С\n",
    "\n",
    "Russia  -  3.7 С\n",
    "\n",
    "Poland  -  12.0 С\n"
   ]
  },
  {
   "cell_type": "code",
   "execution_count": 25,
   "metadata": {},
   "outputs": [
    {
     "name": "stdout",
     "output_type": "stream",
     "text": [
      "Средняя температура в странах:\n",
      "Thailand - 23.9 C\n",
      "Germany - 13.8 C\n",
      "Russia - 3.7 C\n",
      "Poland - 12.0 C\n"
     ]
    }
   ],
   "source": [
    "countries_temperature = [\n",
    "\n",
    "['Thailand', [75.2, 77, 78.8, 73.4, 68, 75.2, 77]],\n",
    "\n",
    "['Germany', [57.2, 55.4, 59, 59, 53.6]],\n",
    "\n",
    "['Russia', [35.6, 37.4, 39.2, 41, 42.8, 39.2, 35.6]],\n",
    "\n",
    "['Poland', [50, 50, 53.6, 57.2, 55.4, 55.4]]]\n",
    "\n",
    "k = 0\n",
    "print('Средняя температура в странах:')\n",
    "while k != len(countries_temperature):\n",
    "    l = 0\n",
    "    avg = 0\n",
    "    while l != len(countries_temperature[k][1]):\n",
    "        avg = avg + countries_temperature[k][1][l]\n",
    "        l = l + 1\n",
    "    print(countries_temperature[k][0], '-', round(((avg/l - 32) * 5/9),1), 'C')\n",
    "    k = k+1\n"
   ]
  },
  {
   "cell_type": "markdown",
   "metadata": {},
   "source": [
    "### Задание 5 (необязательное)\n",
    "\n",
    "Дан поток логов по количеству просмотренных страниц для каждого пользователя. Вам необходимо написать алгоритм, который считает среднее значение просмотров на пользователя. Т. е. надо посчитать отношение суммы всех просмотров к количеству уникальных пользователей.\n",
    "\n",
    "Примеры работы программы:\n",
    "\n",
    "stream = [\n",
    "\n",
    "    '2018-01-01,user1,3',\n",
    "\n",
    "    '2018-01-07,user1,4',\n",
    "\n",
    "    '2018-03-29,user1,1',\n",
    "\n",
    "    '2018-04-04,user1,13',\n",
    "\n",
    "    '2018-01-05,user2,7',\n",
    "\n",
    "    '2018-06-14,user3,4',\n",
    "\n",
    "    '2018-07-02,user3,10',\n",
    "\n",
    "    '2018-03-21,user4,19',\n",
    "\n",
    "    '2018-03-22,user4,4',\n",
    "\n",
    "    '2018-04-22,user4,8',\n",
    "\n",
    "    '2018-05-03,user4,9',\n",
    "\n",
    "    '2018-05-11,user4,11',\n",
    "\n",
    "]\n",
    "\n",
    "Результат:\n",
    "Среднее количество просмотров на уникального пользователя: 23.25\n",
    "\n",
    "stream = [\n",
    "\n",
    "    '2018-01-01,user100,150',\n",
    "\n",
    "    '2018-01-07,user99,205',\n",
    "\n",
    "    '2018-03-29,user1001,81'\n",
    "\n",
    "]\n",
    "\n",
    "Результат:\n",
    "Среднее количество просмотров на уникального пользователя: 145.33"
   ]
  },
  {
   "cell_type": "code",
   "execution_count": 3,
   "metadata": {},
   "outputs": [
    {
     "name": "stdout",
     "output_type": "stream",
     "text": [
      "Среднее количество просмотров на уникального пользователя: 23.25\n"
     ]
    }
   ],
   "source": [
    "stream = [\n",
    "\n",
    "'2018-01-01,user1,3',\n",
    "\n",
    "'2018-01-07,user1,4',\n",
    "\n",
    "'2018-03-29,user1,1',\n",
    "\n",
    "'2018-04-04,user1,13',\n",
    "\n",
    "'2018-01-05,user2,7',\n",
    "\n",
    "'2018-06-14,user3,4',\n",
    "\n",
    "'2018-07-02,user3,10',\n",
    "\n",
    "'2018-03-21,user4,19',\n",
    "\n",
    "'2018-03-22,user4,4',\n",
    "\n",
    "'2018-04-22,user4,8',\n",
    "\n",
    "'2018-05-03,user4,9',\n",
    "\n",
    "'2018-05-11,user4,11',\n",
    "]\n",
    "summ = 0\n",
    "users = []\n",
    "for user in stream:\n",
    "    st = user.split(',')\n",
    "    summ = summ + int(st[2])\n",
    "    if st[1] not in users:\n",
    "        users.append(st[1])\n",
    "print('Среднее количество просмотров на уникального пользователя:', round((summ/len(users)),2))"
   ]
  },
  {
   "cell_type": "markdown",
   "metadata": {},
   "source": [
    "### Задание 6 (необязательное)\n",
    "\n",
    "Необходимо у пользователя запрашивать набор чисел разделенных пробелом. В результате в отсортированном порядке должны выводиться числа, которые повторяются в вводе более одного раза.\n",
    "\n",
    "Примеры работы программы:\n",
    "\n",
    "Введите числа:\n",
    "\n",
    "4 8 0 3 4 2 0 3\n",
    "\n",
    "Результат:\n",
    "0 3 4\n",
    "\n",
    "Введите числа:\n",
    "\n",
    "1 1 2 2 3 3\n",
    "\n",
    "Результат:\n",
    "1 2 3\n",
    "\n",
    "Введите числа:\n",
    "\n",
    "10 15 15 103 200 200 200 1 1 1 1 1 2 2 2\n",
    "\n",
    "Результат:\n",
    "1 2 15 200"
   ]
  },
  {
   "cell_type": "code",
   "execution_count": 11,
   "metadata": {},
   "outputs": [
    {
     "name": "stdout",
     "output_type": "stream",
     "text": [
      "Введите число: 4 8 0 3 4 2 0 3\n",
      "Результат:  0 3 4\n"
     ]
    }
   ],
   "source": [
    "list1 = [ int(i) for i in input('Введите число: ').split()]\n",
    "list1.sort()\n",
    "list2 = [] \n",
    "k = 0\n",
    "while k != len(list1):\n",
    "    if (list1.count(list1[k]) > 1) and (list1[k] not in list2):\n",
    "        list2.append(list1[k]) \n",
    "    k = k + 1\n",
    "\n",
    "if len(list2) == 0:\n",
    "    print('Нет повторяющихся чисел')\n",
    "else:\n",
    "    print('Результат: ', *list2)"
   ]
  }
 ],
 "metadata": {
  "kernelspec": {
   "display_name": "Python 3",
   "language": "python",
   "name": "python3"
  },
  "language_info": {
   "codemirror_mode": {
    "name": "ipython",
    "version": 3
   },
   "file_extension": ".py",
   "mimetype": "text/x-python",
   "name": "python",
   "nbconvert_exporter": "python",
   "pygments_lexer": "ipython3",
   "version": "3.8.5"
  }
 },
 "nbformat": 4,
 "nbformat_minor": 4
}
